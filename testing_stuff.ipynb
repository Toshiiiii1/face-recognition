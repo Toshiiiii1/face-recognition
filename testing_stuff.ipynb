{
 "cells": [
  {
   "cell_type": "code",
   "execution_count": 32,
   "metadata": {},
   "outputs": [],
   "source": [
    "import cv2\n",
    "import torch\n",
    "from facenet_pytorch import MTCNN, InceptionResnetV1, fixed_image_standardization\n",
    "from torchvision import transforms\n",
    "from PIL import Image\n",
    "import numpy as np\n",
    "import os\n",
    "import pandas as pd\n",
    "from tqdm import tqdm\n",
    "import torch.nn.functional as F"
   ]
  },
  {
   "cell_type": "code",
   "execution_count": null,
   "metadata": {},
   "outputs": [],
   "source": [
    "device = torch.device('cuda:0' if torch.cuda.is_available() else 'cpu')\n",
    "mtcnn = MTCNN(keep_all=True, device=device, thresholds=[0.5, 0.5, 0.5])\n",
    "model = InceptionResnetV1(pretrained=\"casia-webface\", classify=False).to(device)\n",
    "model.eval()"
   ]
  },
  {
   "cell_type": "code",
   "execution_count": null,
   "metadata": {},
   "outputs": [],
   "source": [
    "face_vectors = torch.load(\"./face_embeddings.pt\") # a list of face embeddings\n",
    "face_names = np.load(\"./face_names.npy\") # a list of names corresponding to the embeddings"
   ]
  },
  {
   "cell_type": "code",
   "execution_count": 38,
   "metadata": {},
   "outputs": [
    {
     "name": "stdout",
     "output_type": "stream",
     "text": [
      "Top matches for the detected face:\n",
      "Name: Claire_Hentzen, Similarity: 0.5994\n",
      "Name: Aaron_Guiel, Similarity: 0.5657\n",
      "Name: Rick_Bland, Similarity: 0.5362\n",
      "Name: Jake_Brace, Similarity: 0.5240\n",
      "Name: Michael_Deutsch, Similarity: 0.5186\n"
     ]
    }
   ],
   "source": [
    "def cosine_similarity(vec1, vec2):\n",
    "    return F.cosine_similarity(vec1, vec2, dim=0).item()\n",
    "\n",
    "image = cv2.imread(\"./dataset/test_image/Aaron_Guiel.jpg\")\n",
    "face_detected = mtcnn(image)\n",
    "\n",
    "similarities = []\n",
    "\n",
    "if face_detected is not None:\n",
    "    feature_vector = model(face_detected.to(device))[0] # [1, 512]\n",
    "    for i, face_vector in enumerate(face_vectors):\n",
    "        sim = cosine_similarity(feature_vector, face_vector)\n",
    "        if sim > 0.5:\n",
    "            similarities.append((face_names[i], sim))\n",
    "    if similarities:\n",
    "        similarities.sort(key=lambda x: x[1], reverse=True)\n",
    "        print(f\"Top matches for the detected face:\")\n",
    "        for name, sim in similarities[:5]:\n",
    "            print(f\"Name: {name}, Similarity: {sim:.4f}\")\n",
    "else:\n",
    "    print(\"No face detected in the image.\")"
   ]
  }
 ],
 "metadata": {
  "kernelspec": {
   "display_name": "FR_VM",
   "language": "python",
   "name": "python3"
  },
  "language_info": {
   "codemirror_mode": {
    "name": "ipython",
    "version": 3
   },
   "file_extension": ".py",
   "mimetype": "text/x-python",
   "name": "python",
   "nbconvert_exporter": "python",
   "pygments_lexer": "ipython3",
   "version": "3.11.0"
  }
 },
 "nbformat": 4,
 "nbformat_minor": 2
}
